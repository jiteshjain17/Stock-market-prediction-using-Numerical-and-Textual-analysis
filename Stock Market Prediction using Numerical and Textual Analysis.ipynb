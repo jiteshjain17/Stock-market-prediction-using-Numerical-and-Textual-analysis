{
 "cells": [
  {
   "cell_type": "markdown",
   "metadata": {},
   "source": [
    "## Importing required libraries"
   ]
  },
  {
   "cell_type": "code",
   "execution_count": 1,
   "metadata": {},
   "outputs": [],
   "source": [
    "import warnings\n",
    "warnings.filterwarnings('ignore')\n",
    "import numpy as np\n",
    "import pandas as pd\n",
    "import matplotlib.pyplot as plt\n",
    "import itertools\n",
    "from statsmodels.tsa.stattools import adfuller, acf, pacf\n",
    "from statsmodels.tsa.arima_model import ARIMA\n",
    "import nltk\n",
    "import re\n",
    "import math\n",
    "from sklearn.metrics import mean_squared_error\n",
    "from nltk.corpus import stopwords"
   ]
  },
  {
   "cell_type": "code",
   "execution_count": 2,
   "metadata": {},
   "outputs": [
    {
     "name": "stdout",
     "output_type": "stream",
     "text": [
      "Requirement already satisfied: pmdarima in c:\\users\\jites\\appdata\\roaming\\python\\python37\\site-packages (1.8.0)\n",
      "Requirement already satisfied: urllib3 in c:\\users\\jites\\anaconda3\\lib\\site-packages (from pmdarima) (1.25.8)\n",
      "Requirement already satisfied: scipy>=1.3.2 in c:\\users\\jites\\anaconda3\\lib\\site-packages (from pmdarima) (1.4.1)\n",
      "Requirement already satisfied: pandas>=0.19 in c:\\users\\jites\\appdata\\roaming\\python\\python37\\site-packages (from pmdarima) (1.3.3)\n",
      "Requirement already satisfied: scikit-learn>=0.22 in c:\\users\\jites\\anaconda3\\lib\\site-packages (from pmdarima) (0.22.1)\n",
      "Requirement already satisfied: setuptools!=50.0.0,>=38.6.0 in c:\\users\\jites\\anaconda3\\lib\\site-packages (from pmdarima) (45.2.0.post20200210)\n",
      "Requirement already satisfied: joblib>=0.11 in c:\\users\\jites\\anaconda3\\lib\\site-packages (from pmdarima) (0.14.1)\n",
      "Requirement already satisfied: numpy>=1.17.3 in c:\\users\\jites\\appdata\\roaming\\python\\python37\\site-packages (from pmdarima) (1.17.3)\n",
      "Requirement already satisfied: Cython<0.29.18,>=0.29 in c:\\users\\jites\\anaconda3\\lib\\site-packages (from pmdarima) (0.29.14)\n",
      "Requirement already satisfied: statsmodels!=0.12.0,>=0.11 in c:\\users\\jites\\anaconda3\\lib\\site-packages (from pmdarima) (0.11.0)\n",
      "Requirement already satisfied: python-dateutil>=2.7.3 in c:\\users\\jites\\anaconda3\\lib\\site-packages (from pandas>=0.19->pmdarima) (2.8.1)\n",
      "Requirement already satisfied: pytz>=2017.3 in c:\\users\\jites\\anaconda3\\lib\\site-packages (from pandas>=0.19->pmdarima) (2019.3)\n",
      "Requirement already satisfied: patsy>=0.5 in c:\\users\\jites\\anaconda3\\lib\\site-packages (from statsmodels!=0.12.0,>=0.11->pmdarima) (0.5.1)\n",
      "Requirement already satisfied: six>=1.5 in c:\\users\\jites\\appdata\\roaming\\python\\python37\\site-packages (from python-dateutil>=2.7.3->pandas>=0.19->pmdarima) (1.15.0)\n"
     ]
    }
   ],
   "source": [
    "!pip install pmdarima --user"
   ]
  },
  {
   "cell_type": "markdown",
   "metadata": {},
   "source": [
    "## TIME SERIES ANALYSIS"
   ]
  },
  {
   "cell_type": "markdown",
   "metadata": {},
   "source": [
    "## Loading stock price dataset and performing Exploratory analysis"
   ]
  },
  {
   "cell_type": "code",
   "execution_count": 3,
   "metadata": {},
   "outputs": [
    {
     "data": {
      "text/html": [
       "<div>\n",
       "<style scoped>\n",
       "    .dataframe tbody tr th:only-of-type {\n",
       "        vertical-align: middle;\n",
       "    }\n",
       "\n",
       "    .dataframe tbody tr th {\n",
       "        vertical-align: top;\n",
       "    }\n",
       "\n",
       "    .dataframe thead th {\n",
       "        text-align: right;\n",
       "    }\n",
       "</style>\n",
       "<table border=\"1\" class=\"dataframe\">\n",
       "  <thead>\n",
       "    <tr style=\"text-align: right;\">\n",
       "      <th></th>\n",
       "      <th>Date</th>\n",
       "      <th>Open</th>\n",
       "      <th>High</th>\n",
       "      <th>Low</th>\n",
       "      <th>Close</th>\n",
       "      <th>Adj Close</th>\n",
       "      <th>Volume</th>\n",
       "    </tr>\n",
       "  </thead>\n",
       "  <tbody>\n",
       "    <tr>\n",
       "      <th>0</th>\n",
       "      <td>2005-06-30</td>\n",
       "      <td>7154.270020</td>\n",
       "      <td>7218.279785</td>\n",
       "      <td>7154.270020</td>\n",
       "      <td>7193.850098</td>\n",
       "      <td>7193.850098</td>\n",
       "      <td>28600.0</td>\n",
       "    </tr>\n",
       "    <tr>\n",
       "      <th>1</th>\n",
       "      <td>2005-07-01</td>\n",
       "      <td>7165.450195</td>\n",
       "      <td>7228.569824</td>\n",
       "      <td>7154.930176</td>\n",
       "      <td>7210.770020</td>\n",
       "      <td>7210.770020</td>\n",
       "      <td>12600.0</td>\n",
       "    </tr>\n",
       "    <tr>\n",
       "      <th>2</th>\n",
       "      <td>2005-07-04</td>\n",
       "      <td>7186.740234</td>\n",
       "      <td>7284.410156</td>\n",
       "      <td>7186.740234</td>\n",
       "      <td>7277.310059</td>\n",
       "      <td>7277.310059</td>\n",
       "      <td>9600.0</td>\n",
       "    </tr>\n",
       "    <tr>\n",
       "      <th>3</th>\n",
       "      <td>2005-07-05</td>\n",
       "      <td>7275.000000</td>\n",
       "      <td>7308.720215</td>\n",
       "      <td>7209.859863</td>\n",
       "      <td>7220.250000</td>\n",
       "      <td>7220.250000</td>\n",
       "      <td>12600.0</td>\n",
       "    </tr>\n",
       "    <tr>\n",
       "      <th>4</th>\n",
       "      <td>2005-07-06</td>\n",
       "      <td>7227.220215</td>\n",
       "      <td>7296.180176</td>\n",
       "      <td>7227.220215</td>\n",
       "      <td>7287.600098</td>\n",
       "      <td>7287.600098</td>\n",
       "      <td>13400.0</td>\n",
       "    </tr>\n",
       "  </tbody>\n",
       "</table>\n",
       "</div>"
      ],
      "text/plain": [
       "         Date         Open         High          Low        Close  \\\n",
       "0  2005-06-30  7154.270020  7218.279785  7154.270020  7193.850098   \n",
       "1  2005-07-01  7165.450195  7228.569824  7154.930176  7210.770020   \n",
       "2  2005-07-04  7186.740234  7284.410156  7186.740234  7277.310059   \n",
       "3  2005-07-05  7275.000000  7308.720215  7209.859863  7220.250000   \n",
       "4  2005-07-06  7227.220215  7296.180176  7227.220215  7287.600098   \n",
       "\n",
       "     Adj Close   Volume  \n",
       "0  7193.850098  28600.0  \n",
       "1  7210.770020  12600.0  \n",
       "2  7277.310059   9600.0  \n",
       "3  7220.250000  12600.0  \n",
       "4  7287.600098  13400.0  "
      ]
     },
     "execution_count": 3,
     "metadata": {},
     "output_type": "execute_result"
    }
   ],
   "source": [
    "df_prices = pd.read_csv('C:/Users/jites/Desktop/historical_data.csv')\n",
    "df_prices.head()"
   ]
  },
  {
   "cell_type": "code",
   "execution_count": 4,
   "metadata": {},
   "outputs": [
    {
     "name": "stdout",
     "output_type": "stream",
     "text": [
      "<class 'pandas.core.frame.DataFrame'>\n",
      "RangeIndex: 3700 entries, 0 to 3699\n",
      "Data columns (total 7 columns):\n",
      " #   Column     Non-Null Count  Dtype         \n",
      "---  ------     --------------  -----         \n",
      " 0   Date       3700 non-null   datetime64[ns]\n",
      " 1   Open       3672 non-null   float64       \n",
      " 2   High       3672 non-null   float64       \n",
      " 3   Low        3672 non-null   float64       \n",
      " 4   Close      3672 non-null   float64       \n",
      " 5   Adj Close  3672 non-null   float64       \n",
      " 6   Volume     3672 non-null   float64       \n",
      "dtypes: datetime64[ns](1), float64(6)\n",
      "memory usage: 202.5 KB\n"
     ]
    }
   ],
   "source": [
    "# Converting Date column to datetime column\n",
    "df_prices['Date'] = pd.to_datetime(df_prices['Date'])\n",
    "df_prices.info()"
   ]
  },
  {
   "cell_type": "code",
   "execution_count": 5,
   "metadata": {},
   "outputs": [
    {
     "data": {
      "image/png": "[encoded data removed]",
      "text/plain": [
       "<Figure size 1152x576 with 1 Axes>"
      ]
     },
     "metadata": {
      "needs_background": "light"
     },
     "output_type": "display_data"
    }
   ],
   "source": [
    "df_prices.dropna(inplace=True)\n",
    "#plot\n",
    "plt.figure(figsize=(16,8))\n",
    "plt.plot(df_prices['Close'], label='Close Price history')\n",
    "plt.title('Close Price history', fontsize=20)\n",
    "plt.xlabel('Time (Year)', fontsize=15)\n",
    "plt.ylabel('Close Price', fontsize=15)\n",
    "plt.show()"
   ]
  },
  {
   "cell_type": "markdown",
   "metadata": {},
   "source": [
    "## Plotting moving average"
   ]
  },
  {
   "cell_type": "code",
   "execution_count": 6,
   "metadata": {},
   "outputs": [
    {
     "data": {
      "image/png": "[encoded data removed]",
      "text/plain": [
       "<Figure size 1152x576 with 1 Axes>"
      ]
     },
     "metadata": {
      "needs_background": "light"
     },
     "output_type": "display_data"
    }
   ],
   "source": [
    "close = df_prices['Close']\n",
    "ma = close.rolling(window=50).mean()\n",
    "std = close.rolling(window=50).std()\n",
    "\n",
    "plt.figure(figsize=(16,8))\n",
    "df_prices['Close'].plot(color='b', label='Close')\n",
    "ma.plot(color = 'r', label='Rolling Mean')\n",
    "std.plot(label = 'Rolling Standard Deviation')\n",
    "plt.ylabel('Close Price')\n",
    "plt.xlabel('Time')\n",
    "plt.legend()\n",
    "plt.show()"
   ]
  },
  {
   "cell_type": "markdown",
   "metadata": {},
   "source": [
    "## Plotting returns"
   ]
  },
  {
   "cell_type": "code",
   "execution_count": 7,
   "metadata": {},
   "outputs": [
    {
     "data": {
      "image/png": "[encoded data removed]",
      "text/plain": [
       "<Figure size 1152x576 with 1 Axes>"
      ]
     },
     "metadata": {
      "needs_background": "light"
     },
     "output_type": "display_data"
    }
   ],
   "source": [
    "returns = close / close.shift(1) - 1\n",
    "\n",
    "plt.figure(figsize=(16,8))\n",
    "returns.plot(color='g', label='Return')\n",
    "plt.title('Returns', fontsize=25)\n",
    "plt.show()"
   ]
  },
  {
   "cell_type": "markdown",
   "metadata": {},
   "source": [
    "## Dividing into training and test sets"
   ]
  },
  {
   "cell_type": "code",
   "execution_count": 8,
   "metadata": {},
   "outputs": [
    {
     "data": {
      "image/png": "[encoded data removed]",
      "text/plain": [
       "<Figure size 1152x576 with 1 Axes>"
      ]
     },
     "metadata": {
      "needs_background": "light"
     },
     "output_type": "display_data"
    }
   ],
   "source": [
    "train_data, test_data = df_prices[0:int(len(df_prices)*0.8)], df_prices[int(len(df_prices)*0.8):]\n",
    "plt.figure(figsize=(16,8))\n",
    "plt.title('BSESN Stock Prices', fontsize=25)\n",
    "plt.xlabel('Dates')\n",
    "plt.ylabel('Prices')\n",
    "plt.plot(df_prices['Close'], 'blue', label='Training Data')\n",
    "plt.plot(test_data['Close'], 'green', label='Test Data')\n",
    "plt.legend()\n",
    "plt.show()"
   ]
  },
  {
   "cell_type": "markdown",
   "metadata": {},
   "source": [
    "## Creating an ARIMA model for Numerical Analysis"
   ]
  },
  {
   "cell_type": "markdown",
   "metadata": {},
   "source": [
    "### ARIMA\n",
    "ARIMA (AutoRegressive Integrated Moving Average) is a forecasting algorithm based on the idea that the information in the past values of the time series can alone be used to predict the future values.\n",
    "\n",
    "ARIMA models explain a time series based on its own past values, basically its own lags and the lagged forecast errors.\n",
    "\n",
    "An ARIMA model is characterized by 3 terms (p, d, q):\n",
    "\n",
    " - p is the order of the AR term\n",
    "\n",
    " - d is the number of differencing required to make the time series stationary\n",
    "\n",
    " - q is the order of the MA term\n",
    "\n",
    "As we see in the parameters required by the model, any stationary time series can be modeled with ARIMA models.\n",
    "\n",
    "### Stationarity\n",
    "A stationary time series is one whose properties do not depend on the time at which the series is observed. Thus, time series with trends, or with seasonality, are not stationary — the trend and seasonality will affect the value of the time series at different times.\n",
    "\n",
    "Subtract the previous value from the current value. Now if we just difference once, we might not get a stationary series so we might need to do that multiple times.\n",
    "\n",
    "And the minimum number of differencing operations needed to make the series stationary needs to be imputed into our ARIMA model.\n",
    "\n",
    "### ADF test\n",
    "We'll use the Augumented Dickey Fuller (ADF) test to check if the price series is stationary.\n",
    "\n",
    "The null hypothesis of the ADF test is that the time series is non-stationary. So, if the p-value of the test is less than the significance level (0.05) then we can reject the null hypothesis and infer that the time series is indeed stationary.\n",
    "\n",
    "So, in our case, if the p-value > 0.05 we'll need to find the order of differencing."
   ]
  },
  {
   "cell_type": "code",
   "execution_count": 9,
   "metadata": {},
   "outputs": [
    {
     "name": "stdout",
     "output_type": "stream",
     "text": [
      "ADF Staistic: -1.2818477507754722\n",
      "p-value: 0.6374355348664578\n"
     ]
    }
   ],
   "source": [
    "from statsmodels.tsa.stattools import adfuller\n",
    "\n",
    "result = adfuller(df_prices.Close.dropna())\n",
    "print(f'ADF Staistic: {result[0]}')\n",
    "print(f'p-value: {result[1]}')"
   ]
  },
  {
   "cell_type": "markdown",
   "metadata": {},
   "source": [
    "p-value > 0.05, therefore time-series is not stationary."
   ]
  },
  {
   "cell_type": "code",
   "execution_count": 10,
   "metadata": {},
   "outputs": [
    {
     "data": {
      "text/plain": [
       "1"
      ]
     },
     "execution_count": 10,
     "metadata": {},
     "output_type": "execute_result"
    }
   ],
   "source": [
    "from pmdarima.arima.utils import ndiffs\n",
    "ndiffs(df_prices.Close, test='adf')"
   ]
  },
  {
   "cell_type": "markdown",
   "metadata": {},
   "source": [
    "Therefore d value is 1.\n",
    "\n",
    "**p**\n",
    "\n",
    "p is the order of the Auto Regressive (AR) term. It refers to the number of lags to be used as predictors.\n",
    "We can find out the required number of AR terms by inspecting the Partial Autocorrelation (PACF) plot.\n",
    "The partial autocorrelation represents the correlation between the series and its lags."
   ]
  },
  {
   "cell_type": "code",
   "execution_count": 11,
   "metadata": {},
   "outputs": [
    {
     "data": {
      "image/png": "[encoded data removed]",
      "text/plain": [
       "<Figure size 1152x288 with 2 Axes>"
      ]
     },
     "metadata": {
      "needs_background": "light"
     },
     "output_type": "display_data"
    }
   ],
   "source": [
    "from statsmodels.graphics.tsaplots import plot_acf, plot_pacf\n",
    "\n",
    "diff = df_prices.Close.diff().dropna()\n",
    "\n",
    "fig, (ax1, ax2) = plt.subplots(1, 2, figsize=(16,4))\n",
    "\n",
    "ax1.plot(diff)\n",
    "ax1.set_title(\"Difference once\")\n",
    "ax2.set_ylim(0,1)\n",
    "plot_pacf(diff, ax=ax2);"
   ]
  },
  {
   "cell_type": "markdown",
   "metadata": {},
   "source": [
    "**q**\n",
    "\n",
    "q is the order of the Moving Average (MA) term. It refers to the number of lagged forecast errors that should go into the ARIMA Model.\n",
    "We can look at the ACF plot for the number of MA terms."
   ]
  },
  {
   "cell_type": "code",
   "execution_count": 12,
   "metadata": {},
   "outputs": [
    {
     "data": {
      "image/png": "[encoded data removed]",
      "text/plain": [
       "<Figure size 1152x288 with 2 Axes>"
      ]
     },
     "metadata": {
      "needs_background": "light"
     },
     "output_type": "display_data"
    }
   ],
   "source": [
    "diff = df_prices.Close.diff().dropna()\n",
    "\n",
    "fig, (ax1, ax2) = plt.subplots(1, 2, figsize=(16, 4))\n",
    "\n",
    "ax1.plot(diff)\n",
    "ax1.set_title(\"Difference once\")\n",
    "ax2.set_ylim(0, 1)\n",
    "plot_acf(diff, ax=ax2);"
   ]
  },
  {
   "cell_type": "code",
   "execution_count": 13,
   "metadata": {},
   "outputs": [
    {
     "data": {
      "image/png": "[encoded data removed]",
      "text/plain": [
       "<Figure size 432x288 with 2 Axes>"
      ]
     },
     "metadata": {
      "needs_background": "light"
     },
     "output_type": "display_data"
    }
   ],
   "source": [
    "dataset = df_prices.copy()\n",
    "dataset.set_index('Date', inplace=True)\n",
    "dataset = dataset[['Close']]\n",
    "\n",
    "plt.figure()\n",
    "plt.subplot(211)\n",
    "plot_acf(dataset, ax=plt.gca(), lags=10)\n",
    "plt.subplot(212)\n",
    "plot_pacf(dataset, ax=plt.gca(), lags=10)\n",
    "plt.show()"
   ]
  },
  {
   "cell_type": "markdown",
   "metadata": {},
   "source": [
    "## Deciding our ARIMA model\n",
    "Our main job is to decide the order of the AR, I, MA parts which are donated by (p,d,q) respectively. So we use auto arima to figure out the order of the ARIMA model. "
   ]
  },
  {
   "cell_type": "code",
   "execution_count": 14,
   "metadata": {},
   "outputs": [
    {
     "name": "stdout",
     "output_type": "stream",
     "text": [
      "Performing stepwise search to minimize aic\n",
      " ARIMA(2,1,2)(0,0,0)[0] intercept   : AIC=40423.084, Time=2.92 sec\n",
      " ARIMA(0,1,0)(0,0,0)[0] intercept   : AIC=40441.008, Time=0.07 sec\n",
      " ARIMA(1,1,0)(0,0,0)[0] intercept   : AIC=40424.311, Time=0.15 sec\n",
      " ARIMA(0,1,1)(0,0,0)[0] intercept   : AIC=40423.300, Time=0.19 sec\n",
      " ARIMA(0,1,0)(0,0,0)[0]             : AIC=40442.434, Time=0.04 sec\n",
      " ARIMA(1,1,2)(0,0,0)[0] intercept   : AIC=40425.364, Time=0.95 sec\n",
      " ARIMA(2,1,1)(0,0,0)[0] intercept   : AIC=40421.619, Time=1.93 sec\n",
      " ARIMA(1,1,1)(0,0,0)[0] intercept   : AIC=40424.354, Time=0.23 sec\n",
      " ARIMA(2,1,0)(0,0,0)[0] intercept   : AIC=40423.533, Time=0.26 sec\n",
      " ARIMA(3,1,1)(0,0,0)[0] intercept   : AIC=40423.455, Time=2.61 sec\n",
      " ARIMA(3,1,0)(0,0,0)[0] intercept   : AIC=40424.767, Time=0.30 sec\n",
      " ARIMA(3,1,2)(0,0,0)[0] intercept   : AIC=inf, Time=3.68 sec\n",
      " ARIMA(2,1,1)(0,0,0)[0]             : AIC=40423.231, Time=0.52 sec\n",
      "\n",
      "Best model:  ARIMA(2,1,1)(0,0,0)[0] intercept\n",
      "Total fit time: 13.895 seconds\n"
     ]
    }
   ],
   "source": [
    "from pmdarima import auto_arima\n",
    "model = auto_arima(train_data['Close'], trace=True, error_action='ignore', suppress_warnings=True)"
   ]
  },
  {
   "cell_type": "markdown",
   "metadata": {},
   "source": [
    "## Rolling forecasts \n",
    "A rolling forecast is required given the dependence on observations in prior time steps for differencing and the AR model. A crude way to perform this rolling forecast is to re-create the ARIMA model after each new observation is received."
   ]
  },
  {
   "cell_type": "code",
   "execution_count": 15,
   "metadata": {},
   "outputs": [
    {
     "name": "stdout",
     "output_type": "stream",
     "text": [
      "Mean:  35833.91908225161\n",
      "Test RMSE: 438.135\n"
     ]
    }
   ],
   "source": [
    "train_ar = train_data['Close'].values\n",
    "test_ar = test_data['Close'].values\n",
    "history = [x for x in train_ar]\n",
    "\n",
    "# generate a prediction for each element on the test set.\n",
    "preds = list()\n",
    "for t in range(len(test_ar)):\n",
    "    mod = ARIMA(history, order = (2,1,1))\n",
    "    mod_fit = mod.fit(disp=0)\n",
    "    output = mod_fit.forecast()\n",
    "    yhat = output[0]\n",
    "    preds.append(yhat)\n",
    "    obs = test_ar[t]\n",
    "    history.append(obs)\n",
    "\n",
    "# Evaluate forecasts\n",
    "print('Mean: ', test_data['Close'].mean())\n",
    "\n",
    "rmse = math.sqrt(mean_squared_error(test_ar, preds))\n",
    "print('Test RMSE: %.3f' % rmse)"
   ]
  },
  {
   "cell_type": "markdown",
   "metadata": {},
   "source": [
    "The root mean squared should be very smaller than the mean value of test set. In this case, we can see the average error is gonna be roughly 438.135/35833.919 *100 = 1.22% of the actual value. So our ARIMA model is ready to go!"
   ]
  },
  {
   "cell_type": "code",
   "execution_count": 16,
   "metadata": {},
   "outputs": [
    {
     "name": "stdout",
     "output_type": "stream",
     "text": [
      "                             ARIMA Model Results                              \n",
      "==============================================================================\n",
      "Dep. Variable:                    D.y   No. Observations:                 3670\n",
      "Model:                 ARIMA(2, 1, 1)   Log Likelihood              -25980.570\n",
      "Method:                       css-mle   S.D. of innovations            287.216\n",
      "Date:                Tue, 28 Sep 2021   AIC                          51971.139\n",
      "Time:                        16:39:30   BIC                          52002.179\n",
      "Sample:                             1   HQIC                         51982.190\n",
      "                                                                              \n",
      "==============================================================================\n",
      "                 coef    std err          z      P>|z|      [0.025      0.975]\n",
      "------------------------------------------------------------------------------\n",
      "const          7.6225      4.891      1.558      0.119      -1.964      17.209\n",
      "ar.L1.D.y     -0.0720      0.384     -0.187      0.851      -0.825       0.681\n",
      "ar.L2.D.y      0.0239      0.017      1.425      0.154      -0.009       0.057\n",
      "ma.L1.D.y      0.0812      0.384      0.212      0.832      -0.672       0.834\n",
      "                                    Roots                                    \n",
      "=============================================================================\n",
      "                  Real          Imaginary           Modulus         Frequency\n",
      "-----------------------------------------------------------------------------\n",
      "AR.1           -5.1374           +0.0000j            5.1374            0.5000\n",
      "AR.2            8.1500           +0.0000j            8.1500            0.0000\n",
      "MA.1          -12.3081           +0.0000j           12.3081            0.5000\n",
      "-----------------------------------------------------------------------------\n"
     ]
    }
   ],
   "source": [
    "print(mod_fit.summary())"
   ]
  },
  {
   "cell_type": "markdown",
   "metadata": {},
   "source": [
    "## Visualizing the predictions"
   ]
  },
  {
   "cell_type": "code",
   "execution_count": 17,
   "metadata": {},
   "outputs": [
    {
     "data": {
      "text/plain": [
       "<Figure size 1152x576 with 0 Axes>"
      ]
     },
     "metadata": {},
     "output_type": "display_data"
    },
    {
     "data": {
      "image/png": "[encoded data removed]",
      "text/plain": [
       "<Figure size 432x288 with 1 Axes>"
      ]
     },
     "metadata": {
      "needs_background": "light"
     },
     "output_type": "display_data"
    }
   ],
   "source": [
    "start = len(train_ar)\n",
    "end = len(train_ar) + len(test_ar) - 1\n",
    "plt.figure(figsize=(16,8))\n",
    "mod_fit.plot_predict(start=start, end=end, dynamic=False)\n",
    "plt.show()"
   ]
  },
  {
   "cell_type": "code",
   "execution_count": 18,
   "metadata": {},
   "outputs": [
    {
     "data": {
      "image/png": "[encoded data removed]",
      "text/plain": [
       "<Figure size 1152x576 with 1 Axes>"
      ]
     },
     "metadata": {
      "needs_background": "light"
     },
     "output_type": "display_data"
    }
   ],
   "source": [
    "plt.figure(figsize=(16,8))\n",
    "plt.plot(test_data.index, preds, color='g', marker='o', linestyle='dashed', label='Predicted Price')\n",
    "plt.plot(test_data.index, test_data['Close'], color='r', label='Actual Price')\n",
    "plt.legend()\n",
    "plt.title('BSESN Stock Price Prediction from last 15 years data', fontsize=20)\n",
    "plt.ylabel('Prices')\n",
    "plt.show()"
   ]
  },
  {
   "cell_type": "markdown",
   "metadata": {},
   "source": [
    "The above image is a zoomed in version. From this can be noticed how the two curves closely follow each other. However, the predicted price seems to look like a “noisy” version of the actual price.\n",
    "\n",
    "This analysis using ARIMA lead overall to appreciable results. This model demonstrated in fact to offer good prediction accuracy and to be relatively fast compared to other alternatives such as RNNs (Recurrent Neural Networks)."
   ]
  },
  {
   "cell_type": "markdown",
   "metadata": {},
   "source": [
    "# TEXTUAL ANALYSIS"
   ]
  },
  {
   "cell_type": "markdown",
   "metadata": {},
   "source": [
    "## Loading Textual (News Headlines) dataset and performing Exploratory Analysis"
   ]
  },
  {
   "cell_type": "code",
   "execution_count": 19,
   "metadata": {},
   "outputs": [
    {
     "data": {
      "text/html": [
       "<div>\n",
       "<style scoped>\n",
       "    .dataframe tbody tr th:only-of-type {\n",
       "        vertical-align: middle;\n",
       "    }\n",
       "\n",
       "    .dataframe tbody tr th {\n",
       "        vertical-align: top;\n",
       "    }\n",
       "\n",
       "    .dataframe thead th {\n",
       "        text-align: right;\n",
       "    }\n",
       "</style>\n",
       "<table border=\"1\" class=\"dataframe\">\n",
       "  <thead>\n",
       "    <tr style=\"text-align: right;\">\n",
       "      <th></th>\n",
       "      <th>Date</th>\n",
       "      <th>Category</th>\n",
       "      <th>News</th>\n",
       "    </tr>\n",
       "  </thead>\n",
       "  <tbody>\n",
       "    <tr>\n",
       "      <th>0</th>\n",
       "      <td>publish_date</td>\n",
       "      <td>headline_category</td>\n",
       "      <td>headline_text</td>\n",
       "    </tr>\n",
       "    <tr>\n",
       "      <th>1</th>\n",
       "      <td>20010102</td>\n",
       "      <td>unknown</td>\n",
       "      <td>Status quo will not be disturbed at Ayodhya; s...</td>\n",
       "    </tr>\n",
       "    <tr>\n",
       "      <th>2</th>\n",
       "      <td>20010102</td>\n",
       "      <td>unknown</td>\n",
       "      <td>Fissures in Hurriyat over Pak visit</td>\n",
       "    </tr>\n",
       "    <tr>\n",
       "      <th>3</th>\n",
       "      <td>20010102</td>\n",
       "      <td>unknown</td>\n",
       "      <td>America's unwanted heading for India?</td>\n",
       "    </tr>\n",
       "    <tr>\n",
       "      <th>4</th>\n",
       "      <td>20010102</td>\n",
       "      <td>unknown</td>\n",
       "      <td>For bigwigs; it is destination Goa</td>\n",
       "    </tr>\n",
       "    <tr>\n",
       "      <th>...</th>\n",
       "      <td>...</td>\n",
       "      <td>...</td>\n",
       "      <td>...</td>\n",
       "    </tr>\n",
       "    <tr>\n",
       "      <th>3424063</th>\n",
       "      <td>20201231</td>\n",
       "      <td>city.jodhpur</td>\n",
       "      <td>Covid-19: Despite dip in cases; Rajasthan amon...</td>\n",
       "    </tr>\n",
       "    <tr>\n",
       "      <th>3424064</th>\n",
       "      <td>20201231</td>\n",
       "      <td>city.udaipur</td>\n",
       "      <td>Covid-19: Despite dip in cases; Rajasthan amon...</td>\n",
       "    </tr>\n",
       "    <tr>\n",
       "      <th>3424065</th>\n",
       "      <td>20201231</td>\n",
       "      <td>city.ajmer</td>\n",
       "      <td>Covid-19: Despite dip in cases; Rajasthan amon...</td>\n",
       "    </tr>\n",
       "    <tr>\n",
       "      <th>3424066</th>\n",
       "      <td>20201231</td>\n",
       "      <td>removed</td>\n",
       "      <td>Govt extends deadline for use of FASTag till F...</td>\n",
       "    </tr>\n",
       "    <tr>\n",
       "      <th>3424067</th>\n",
       "      <td>20201231</td>\n",
       "      <td>entertainment.bengali.movies.news</td>\n",
       "      <td>Celebs plan to party safely and responsibly on...</td>\n",
       "    </tr>\n",
       "  </tbody>\n",
       "</table>\n",
       "<p>3424068 rows × 3 columns</p>\n",
       "</div>"
      ],
      "text/plain": [
       "                 Date                           Category  \\\n",
       "0        publish_date                  headline_category   \n",
       "1            20010102                            unknown   \n",
       "2            20010102                            unknown   \n",
       "3            20010102                            unknown   \n",
       "4            20010102                            unknown   \n",
       "...               ...                                ...   \n",
       "3424063      20201231                       city.jodhpur   \n",
       "3424064      20201231                       city.udaipur   \n",
       "3424065      20201231                         city.ajmer   \n",
       "3424066      20201231                            removed   \n",
       "3424067      20201231  entertainment.bengali.movies.news   \n",
       "\n",
       "                                                      News  \n",
       "0                                            headline_text  \n",
       "1        Status quo will not be disturbed at Ayodhya; s...  \n",
       "2                      Fissures in Hurriyat over Pak visit  \n",
       "3                    America's unwanted heading for India?  \n",
       "4                       For bigwigs; it is destination Goa  \n",
       "...                                                    ...  \n",
       "3424063  Covid-19: Despite dip in cases; Rajasthan amon...  \n",
       "3424064  Covid-19: Despite dip in cases; Rajasthan amon...  \n",
       "3424065  Covid-19: Despite dip in cases; Rajasthan amon...  \n",
       "3424066  Govt extends deadline for use of FASTag till F...  \n",
       "3424067  Celebs plan to party safely and responsibly on...  \n",
       "\n",
       "[3424068 rows x 3 columns]"
      ]
     },
     "execution_count": 19,
     "metadata": {},
     "output_type": "execute_result"
    }
   ],
   "source": [
    "cols = ['Date', 'Category', 'News']\n",
    "df_news = pd.read_csv('C:/Users/jites/Downloads/india-news-headlines.csv', names=cols)\n",
    "df_news"
   ]
  },
  {
   "cell_type": "code",
   "execution_count": 20,
   "metadata": {},
   "outputs": [
    {
     "name": "stdout",
     "output_type": "stream",
     "text": [
      "<class 'pandas.core.frame.DataFrame'>\n",
      "Int64Index: 3424067 entries, 1 to 3424067\n",
      "Data columns (total 2 columns):\n",
      " #   Column  Dtype \n",
      "---  ------  ----- \n",
      " 0   Date    object\n",
      " 1   News    object\n",
      "dtypes: object(2)\n",
      "memory usage: 78.4+ MB\n"
     ]
    }
   ],
   "source": [
    "df_news.drop(0, inplace=True)\n",
    "df_news.drop('Category', axis=1, inplace=True)\n",
    "df_news.info()"
   ]
  },
  {
   "cell_type": "code",
   "execution_count": 21,
   "metadata": {},
   "outputs": [
    {
     "data": {
      "text/html": [
       "<div>\n",
       "<style scoped>\n",
       "    .dataframe tbody tr th:only-of-type {\n",
       "        vertical-align: middle;\n",
       "    }\n",
       "\n",
       "    .dataframe tbody tr th {\n",
       "        vertical-align: top;\n",
       "    }\n",
       "\n",
       "    .dataframe thead th {\n",
       "        text-align: right;\n",
       "    }\n",
       "</style>\n",
       "<table border=\"1\" class=\"dataframe\">\n",
       "  <thead>\n",
       "    <tr style=\"text-align: right;\">\n",
       "      <th></th>\n",
       "      <th>Date</th>\n",
       "      <th>News</th>\n",
       "    </tr>\n",
       "  </thead>\n",
       "  <tbody>\n",
       "    <tr>\n",
       "      <th>1</th>\n",
       "      <td>2001-01-02</td>\n",
       "      <td>Status quo will not be disturbed at Ayodhya; s...</td>\n",
       "    </tr>\n",
       "    <tr>\n",
       "      <th>2</th>\n",
       "      <td>2001-01-02</td>\n",
       "      <td>Fissures in Hurriyat over Pak visit</td>\n",
       "    </tr>\n",
       "    <tr>\n",
       "      <th>3</th>\n",
       "      <td>2001-01-02</td>\n",
       "      <td>America's unwanted heading for India?</td>\n",
       "    </tr>\n",
       "    <tr>\n",
       "      <th>4</th>\n",
       "      <td>2001-01-02</td>\n",
       "      <td>For bigwigs; it is destination Goa</td>\n",
       "    </tr>\n",
       "    <tr>\n",
       "      <th>5</th>\n",
       "      <td>2001-01-02</td>\n",
       "      <td>Extra buses to clear tourist traffic</td>\n",
       "    </tr>\n",
       "    <tr>\n",
       "      <th>...</th>\n",
       "      <td>...</td>\n",
       "      <td>...</td>\n",
       "    </tr>\n",
       "    <tr>\n",
       "      <th>3424063</th>\n",
       "      <td>2020-12-31</td>\n",
       "      <td>Covid-19: Despite dip in cases; Rajasthan amon...</td>\n",
       "    </tr>\n",
       "    <tr>\n",
       "      <th>3424064</th>\n",
       "      <td>2020-12-31</td>\n",
       "      <td>Covid-19: Despite dip in cases; Rajasthan amon...</td>\n",
       "    </tr>\n",
       "    <tr>\n",
       "      <th>3424065</th>\n",
       "      <td>2020-12-31</td>\n",
       "      <td>Covid-19: Despite dip in cases; Rajasthan amon...</td>\n",
       "    </tr>\n",
       "    <tr>\n",
       "      <th>3424066</th>\n",
       "      <td>2020-12-31</td>\n",
       "      <td>Govt extends deadline for use of FASTag till F...</td>\n",
       "    </tr>\n",
       "    <tr>\n",
       "      <th>3424067</th>\n",
       "      <td>2020-12-31</td>\n",
       "      <td>Celebs plan to party safely and responsibly on...</td>\n",
       "    </tr>\n",
       "  </tbody>\n",
       "</table>\n",
       "<p>3424067 rows × 2 columns</p>\n",
       "</div>"
      ],
      "text/plain": [
       "              Date                                               News\n",
       "1       2001-01-02  Status quo will not be disturbed at Ayodhya; s...\n",
       "2       2001-01-02                Fissures in Hurriyat over Pak visit\n",
       "3       2001-01-02              America's unwanted heading for India?\n",
       "4       2001-01-02                 For bigwigs; it is destination Goa\n",
       "5       2001-01-02               Extra buses to clear tourist traffic\n",
       "...            ...                                                ...\n",
       "3424063 2020-12-31  Covid-19: Despite dip in cases; Rajasthan amon...\n",
       "3424064 2020-12-31  Covid-19: Despite dip in cases; Rajasthan amon...\n",
       "3424065 2020-12-31  Covid-19: Despite dip in cases; Rajasthan amon...\n",
       "3424066 2020-12-31  Govt extends deadline for use of FASTag till F...\n",
       "3424067 2020-12-31  Celebs plan to party safely and responsibly on...\n",
       "\n",
       "[3424067 rows x 2 columns]"
      ]
     },
     "execution_count": 21,
     "metadata": {},
     "output_type": "execute_result"
    }
   ],
   "source": [
    "# Converting data type of Date column\n",
    "df_news['Date'] = pd.to_datetime(df_news['Date'], format='%Y%m%d')\n",
    "df_news"
   ]
  },
  {
   "cell_type": "code",
   "execution_count": 22,
   "metadata": {},
   "outputs": [
    {
     "data": {
      "text/html": [
       "<div>\n",
       "<style scoped>\n",
       "    .dataframe tbody tr th:only-of-type {\n",
       "        vertical-align: middle;\n",
       "    }\n",
       "\n",
       "    .dataframe tbody tr th {\n",
       "        vertical-align: top;\n",
       "    }\n",
       "\n",
       "    .dataframe thead th {\n",
       "        text-align: right;\n",
       "    }\n",
       "</style>\n",
       "<table border=\"1\" class=\"dataframe\">\n",
       "  <thead>\n",
       "    <tr style=\"text-align: right;\">\n",
       "      <th></th>\n",
       "      <th>Date</th>\n",
       "      <th>News</th>\n",
       "    </tr>\n",
       "  </thead>\n",
       "  <tbody>\n",
       "    <tr>\n",
       "      <th>0</th>\n",
       "      <td>2001-01-02</td>\n",
       "      <td>Status quo will not be disturbed at Ayodhya; s...</td>\n",
       "    </tr>\n",
       "    <tr>\n",
       "      <th>1</th>\n",
       "      <td>2001-01-03</td>\n",
       "      <td>Powerless north India gropes in the dark Think...</td>\n",
       "    </tr>\n",
       "    <tr>\n",
       "      <th>2</th>\n",
       "      <td>2001-01-04</td>\n",
       "      <td>The string that pulled Stephen Hawking to Indi...</td>\n",
       "    </tr>\n",
       "    <tr>\n",
       "      <th>3</th>\n",
       "      <td>2001-01-05</td>\n",
       "      <td>Light combat craft takes India into club class...</td>\n",
       "    </tr>\n",
       "    <tr>\n",
       "      <th>4</th>\n",
       "      <td>2001-01-06</td>\n",
       "      <td>Light combat craft takes India into club class...</td>\n",
       "    </tr>\n",
       "    <tr>\n",
       "      <th>...</th>\n",
       "      <td>...</td>\n",
       "      <td>...</td>\n",
       "    </tr>\n",
       "    <tr>\n",
       "      <th>7257</th>\n",
       "      <td>2020-12-27</td>\n",
       "      <td>#BigInterview! Dhritiman Chatterjee: Nobody da...</td>\n",
       "    </tr>\n",
       "    <tr>\n",
       "      <th>7258</th>\n",
       "      <td>2020-12-28</td>\n",
       "      <td>Horoscope Today; 28 December 2020: Check astro...</td>\n",
       "    </tr>\n",
       "    <tr>\n",
       "      <th>7259</th>\n",
       "      <td>2020-12-29</td>\n",
       "      <td>Man recovers charred remains of 'thief' from h...</td>\n",
       "    </tr>\n",
       "    <tr>\n",
       "      <th>7260</th>\n",
       "      <td>2020-12-30</td>\n",
       "      <td>Numerology Readings 30 December 2020: Predicti...</td>\n",
       "    </tr>\n",
       "    <tr>\n",
       "      <th>7261</th>\n",
       "      <td>2020-12-31</td>\n",
       "      <td>Horoscope Today; 31 December 2020: Check astro...</td>\n",
       "    </tr>\n",
       "  </tbody>\n",
       "</table>\n",
       "<p>7262 rows × 2 columns</p>\n",
       "</div>"
      ],
      "text/plain": [
       "           Date                                               News\n",
       "0    2001-01-02  Status quo will not be disturbed at Ayodhya; s...\n",
       "1    2001-01-03  Powerless north India gropes in the dark Think...\n",
       "2    2001-01-04  The string that pulled Stephen Hawking to Indi...\n",
       "3    2001-01-05  Light combat craft takes India into club class...\n",
       "4    2001-01-06  Light combat craft takes India into club class...\n",
       "...         ...                                                ...\n",
       "7257 2020-12-27  #BigInterview! Dhritiman Chatterjee: Nobody da...\n",
       "7258 2020-12-28  Horoscope Today; 28 December 2020: Check astro...\n",
       "7259 2020-12-29  Man recovers charred remains of 'thief' from h...\n",
       "7260 2020-12-30  Numerology Readings 30 December 2020: Predicti...\n",
       "7261 2020-12-31  Horoscope Today; 31 December 2020: Check astro...\n",
       "\n",
       "[7262 rows x 2 columns]"
      ]
     },
     "execution_count": 22,
     "metadata": {},
     "output_type": "execute_result"
    }
   ],
   "source": [
    "# Grouping the headlines for each day\n",
    "df_news['News'] = df_news.groupby(['Date']).transform(lambda x: ' '.join(x))\n",
    "df_news = df_news.drop_duplicates()\n",
    "df_news.reset_index(inplace=True, drop=True)\n",
    "df_news"
   ]
  },
  {
   "cell_type": "code",
   "execution_count": 23,
   "metadata": {},
   "outputs": [
    {
     "data": {
      "text/plain": [
       "0       Status quo will not be disturbed at Ayodhya; s...\n",
       "1       Powerless north India gropes in the dark Think...\n",
       "2       The string that pulled Stephen Hawking to Indi...\n",
       "3       Light combat craft takes India into club class...\n",
       "4       Light combat craft takes India into club class...\n",
       "                              ...                        \n",
       "7257    #BigInterview! Dhritiman Chatterjee: Nobody da...\n",
       "7258    Horoscope Today; 28 December 2020: Check astro...\n",
       "7259    Man recovers charred remains of 'thief' from h...\n",
       "7260    Numerology Readings 30 December 2020: Predicti...\n",
       "7261    Horoscope Today; 31 December 2020: Check astro...\n",
       "Name: News, Length: 7262, dtype: object"
      ]
     },
     "execution_count": 23,
     "metadata": {},
     "output_type": "execute_result"
    }
   ],
   "source": [
    "df_news['News']"
   ]
  },
  {
   "cell_type": "markdown",
   "metadata": {},
   "source": [
    "## Adding Subjectivity and Polarity scores "
   ]
  },
  {
   "cell_type": "code",
   "execution_count": 24,
   "metadata": {},
   "outputs": [],
   "source": [
    "from textblob import TextBlob"
   ]
  },
  {
   "cell_type": "code",
   "execution_count": 25,
   "metadata": {},
   "outputs": [],
   "source": [
    "def get_subjectivity(text):\n",
    "    return TextBlob(text).sentiment.subjectivity\n",
    "\n",
    "def get_polarity(text):\n",
    "    return TextBlob(text).sentiment.polarity"
   ]
  },
  {
   "cell_type": "code",
   "execution_count": 26,
   "metadata": {},
   "outputs": [
    {
     "data": {
      "text/html": [
       "<div>\n",
       "<style scoped>\n",
       "    .dataframe tbody tr th:only-of-type {\n",
       "        vertical-align: middle;\n",
       "    }\n",
       "\n",
       "    .dataframe tbody tr th {\n",
       "        vertical-align: top;\n",
       "    }\n",
       "\n",
       "    .dataframe thead th {\n",
       "        text-align: right;\n",
       "    }\n",
       "</style>\n",
       "<table border=\"1\" class=\"dataframe\">\n",
       "  <thead>\n",
       "    <tr style=\"text-align: right;\">\n",
       "      <th></th>\n",
       "      <th>Date</th>\n",
       "      <th>News</th>\n",
       "      <th>Subjectivity</th>\n",
       "      <th>Polarity</th>\n",
       "    </tr>\n",
       "  </thead>\n",
       "  <tbody>\n",
       "    <tr>\n",
       "      <th>0</th>\n",
       "      <td>2001-01-02</td>\n",
       "      <td>Status quo will not be disturbed at Ayodhya; s...</td>\n",
       "      <td>0.282333</td>\n",
       "      <td>0.151333</td>\n",
       "    </tr>\n",
       "    <tr>\n",
       "      <th>1</th>\n",
       "      <td>2001-01-03</td>\n",
       "      <td>Powerless north India gropes in the dark Think...</td>\n",
       "      <td>0.407692</td>\n",
       "      <td>0.088462</td>\n",
       "    </tr>\n",
       "    <tr>\n",
       "      <th>2</th>\n",
       "      <td>2001-01-04</td>\n",
       "      <td>The string that pulled Stephen Hawking to Indi...</td>\n",
       "      <td>0.446847</td>\n",
       "      <td>0.087961</td>\n",
       "    </tr>\n",
       "    <tr>\n",
       "      <th>3</th>\n",
       "      <td>2001-01-05</td>\n",
       "      <td>Light combat craft takes India into club class...</td>\n",
       "      <td>0.476612</td>\n",
       "      <td>0.262024</td>\n",
       "    </tr>\n",
       "    <tr>\n",
       "      <th>4</th>\n",
       "      <td>2001-01-06</td>\n",
       "      <td>Light combat craft takes India into club class...</td>\n",
       "      <td>0.439394</td>\n",
       "      <td>0.248485</td>\n",
       "    </tr>\n",
       "    <tr>\n",
       "      <th>...</th>\n",
       "      <td>...</td>\n",
       "      <td>...</td>\n",
       "      <td>...</td>\n",
       "      <td>...</td>\n",
       "    </tr>\n",
       "    <tr>\n",
       "      <th>7257</th>\n",
       "      <td>2020-12-27</td>\n",
       "      <td>#BigInterview! Dhritiman Chatterjee: Nobody da...</td>\n",
       "      <td>0.395808</td>\n",
       "      <td>0.035886</td>\n",
       "    </tr>\n",
       "    <tr>\n",
       "      <th>7258</th>\n",
       "      <td>2020-12-28</td>\n",
       "      <td>Horoscope Today; 28 December 2020: Check astro...</td>\n",
       "      <td>0.412945</td>\n",
       "      <td>0.070517</td>\n",
       "    </tr>\n",
       "    <tr>\n",
       "      <th>7259</th>\n",
       "      <td>2020-12-29</td>\n",
       "      <td>Man recovers charred remains of 'thief' from h...</td>\n",
       "      <td>0.424021</td>\n",
       "      <td>0.061210</td>\n",
       "    </tr>\n",
       "    <tr>\n",
       "      <th>7260</th>\n",
       "      <td>2020-12-30</td>\n",
       "      <td>Numerology Readings 30 December 2020: Predicti...</td>\n",
       "      <td>0.441660</td>\n",
       "      <td>0.043496</td>\n",
       "    </tr>\n",
       "    <tr>\n",
       "      <th>7261</th>\n",
       "      <td>2020-12-31</td>\n",
       "      <td>Horoscope Today; 31 December 2020: Check astro...</td>\n",
       "      <td>0.406220</td>\n",
       "      <td>0.091373</td>\n",
       "    </tr>\n",
       "  </tbody>\n",
       "</table>\n",
       "<p>7262 rows × 4 columns</p>\n",
       "</div>"
      ],
      "text/plain": [
       "           Date                                               News  \\\n",
       "0    2001-01-02  Status quo will not be disturbed at Ayodhya; s...   \n",
       "1    2001-01-03  Powerless north India gropes in the dark Think...   \n",
       "2    2001-01-04  The string that pulled Stephen Hawking to Indi...   \n",
       "3    2001-01-05  Light combat craft takes India into club class...   \n",
       "4    2001-01-06  Light combat craft takes India into club class...   \n",
       "...         ...                                                ...   \n",
       "7257 2020-12-27  #BigInterview! Dhritiman Chatterjee: Nobody da...   \n",
       "7258 2020-12-28  Horoscope Today; 28 December 2020: Check astro...   \n",
       "7259 2020-12-29  Man recovers charred remains of 'thief' from h...   \n",
       "7260 2020-12-30  Numerology Readings 30 December 2020: Predicti...   \n",
       "7261 2020-12-31  Horoscope Today; 31 December 2020: Check astro...   \n",
       "\n",
       "      Subjectivity  Polarity  \n",
       "0         0.282333  0.151333  \n",
       "1         0.407692  0.088462  \n",
       "2         0.446847  0.087961  \n",
       "3         0.476612  0.262024  \n",
       "4         0.439394  0.248485  \n",
       "...            ...       ...  \n",
       "7257      0.395808  0.035886  \n",
       "7258      0.412945  0.070517  \n",
       "7259      0.424021  0.061210  \n",
       "7260      0.441660  0.043496  \n",
       "7261      0.406220  0.091373  \n",
       "\n",
       "[7262 rows x 4 columns]"
      ]
     },
     "execution_count": 26,
     "metadata": {},
     "output_type": "execute_result"
    }
   ],
   "source": [
    "# Adding subjectivity and polarity columns\n",
    "df_news['Subjectivity'] = df_news['News'].apply(get_subjectivity)\n",
    "df_news['Polarity'] = df_news['News'].apply(get_polarity)\n",
    "df_news"
   ]
  },
  {
   "cell_type": "markdown",
   "metadata": {},
   "source": [
    "## Visualizing Subjectivity and Polarity scores"
   ]
  },
  {
   "cell_type": "code",
   "execution_count": 27,
   "metadata": {},
   "outputs": [
    {
     "data": {
      "text/plain": [
       "<matplotlib.axes._subplots.AxesSubplot at 0x19c5a0fdf88>"
      ]
     },
     "execution_count": 27,
     "metadata": {},
     "output_type": "execute_result"
    },
    {
     "data": {
      "image/png": "[encoded data removed]",
      "text/plain": [
       "<Figure size 720x432 with 1 Axes>"
      ]
     },
     "metadata": {
      "needs_background": "light"
     },
     "output_type": "display_data"
    }
   ],
   "source": [
    "plt.figure(figsize = (10,6))\n",
    "df_news['Polarity'].hist(color = 'purple')"
   ]
  },
  {
   "cell_type": "code",
   "execution_count": 28,
   "metadata": {},
   "outputs": [
    {
     "data": {
      "text/plain": [
       "<matplotlib.axes._subplots.AxesSubplot at 0x19c03f16548>"
      ]
     },
     "execution_count": 28,
     "metadata": {},
     "output_type": "execute_result"
    },
    {
     "data": {
      "image/png": "[encoded data removed]",
      "text/plain": [
       "<Figure size 720x432 with 1 Axes>"
      ]
     },
     "metadata": {
      "needs_background": "light"
     },
     "output_type": "display_data"
    }
   ],
   "source": [
    "plt.figure(figsize = (10,6))\n",
    "df_news['Subjectivity'].hist(color = 'blue')"
   ]
  },
  {
   "cell_type": "markdown",
   "metadata": {},
   "source": [
    "## Performing Sentiment Analysis over the news headlines"
   ]
  },
  {
   "cell_type": "code",
   "execution_count": 29,
   "metadata": {},
   "outputs": [],
   "source": [
    "from nltk.sentiment.vader import SentimentIntensityAnalyzer"
   ]
  },
  {
   "cell_type": "code",
   "execution_count": 30,
   "metadata": {},
   "outputs": [
    {
     "data": {
      "text/html": [
       "<div>\n",
       "<style scoped>\n",
       "    .dataframe tbody tr th:only-of-type {\n",
       "        vertical-align: middle;\n",
       "    }\n",
       "\n",
       "    .dataframe tbody tr th {\n",
       "        vertical-align: top;\n",
       "    }\n",
       "\n",
       "    .dataframe thead th {\n",
       "        text-align: right;\n",
       "    }\n",
       "</style>\n",
       "<table border=\"1\" class=\"dataframe\">\n",
       "  <thead>\n",
       "    <tr style=\"text-align: right;\">\n",
       "      <th></th>\n",
       "      <th>Date</th>\n",
       "      <th>News</th>\n",
       "      <th>Subjectivity</th>\n",
       "      <th>Polarity</th>\n",
       "      <th>Compound</th>\n",
       "      <th>Negative</th>\n",
       "      <th>Neutral</th>\n",
       "      <th>Positive</th>\n",
       "    </tr>\n",
       "  </thead>\n",
       "  <tbody>\n",
       "    <tr>\n",
       "      <th>0</th>\n",
       "      <td>2001-01-02</td>\n",
       "      <td>Status quo will not be disturbed at Ayodhya; s...</td>\n",
       "      <td>0.282333</td>\n",
       "      <td>0.151333</td>\n",
       "      <td>-0.9811</td>\n",
       "      <td>0.122</td>\n",
       "      <td>0.807</td>\n",
       "      <td>0.071</td>\n",
       "    </tr>\n",
       "    <tr>\n",
       "      <th>1</th>\n",
       "      <td>2001-01-03</td>\n",
       "      <td>Powerless north India gropes in the dark Think...</td>\n",
       "      <td>0.407692</td>\n",
       "      <td>0.088462</td>\n",
       "      <td>-0.2640</td>\n",
       "      <td>0.122</td>\n",
       "      <td>0.766</td>\n",
       "      <td>0.111</td>\n",
       "    </tr>\n",
       "    <tr>\n",
       "      <th>2</th>\n",
       "      <td>2001-01-04</td>\n",
       "      <td>The string that pulled Stephen Hawking to Indi...</td>\n",
       "      <td>0.446847</td>\n",
       "      <td>0.087961</td>\n",
       "      <td>0.8738</td>\n",
       "      <td>0.100</td>\n",
       "      <td>0.797</td>\n",
       "      <td>0.103</td>\n",
       "    </tr>\n",
       "    <tr>\n",
       "      <th>3</th>\n",
       "      <td>2001-01-05</td>\n",
       "      <td>Light combat craft takes India into club class...</td>\n",
       "      <td>0.476612</td>\n",
       "      <td>0.262024</td>\n",
       "      <td>0.9633</td>\n",
       "      <td>0.124</td>\n",
       "      <td>0.722</td>\n",
       "      <td>0.154</td>\n",
       "    </tr>\n",
       "    <tr>\n",
       "      <th>4</th>\n",
       "      <td>2001-01-06</td>\n",
       "      <td>Light combat craft takes India into club class...</td>\n",
       "      <td>0.439394</td>\n",
       "      <td>0.248485</td>\n",
       "      <td>-0.4215</td>\n",
       "      <td>0.152</td>\n",
       "      <td>0.704</td>\n",
       "      <td>0.143</td>\n",
       "    </tr>\n",
       "    <tr>\n",
       "      <th>...</th>\n",
       "      <td>...</td>\n",
       "      <td>...</td>\n",
       "      <td>...</td>\n",
       "      <td>...</td>\n",
       "      <td>...</td>\n",
       "      <td>...</td>\n",
       "      <td>...</td>\n",
       "      <td>...</td>\n",
       "    </tr>\n",
       "    <tr>\n",
       "      <th>7257</th>\n",
       "      <td>2020-12-27</td>\n",
       "      <td>#BigInterview! Dhritiman Chatterjee: Nobody da...</td>\n",
       "      <td>0.395808</td>\n",
       "      <td>0.035886</td>\n",
       "      <td>-0.9997</td>\n",
       "      <td>0.126</td>\n",
       "      <td>0.798</td>\n",
       "      <td>0.076</td>\n",
       "    </tr>\n",
       "    <tr>\n",
       "      <th>7258</th>\n",
       "      <td>2020-12-28</td>\n",
       "      <td>Horoscope Today; 28 December 2020: Check astro...</td>\n",
       "      <td>0.412945</td>\n",
       "      <td>0.070517</td>\n",
       "      <td>-0.9998</td>\n",
       "      <td>0.137</td>\n",
       "      <td>0.771</td>\n",
       "      <td>0.092</td>\n",
       "    </tr>\n",
       "    <tr>\n",
       "      <th>7259</th>\n",
       "      <td>2020-12-29</td>\n",
       "      <td>Man recovers charred remains of 'thief' from h...</td>\n",
       "      <td>0.424021</td>\n",
       "      <td>0.061210</td>\n",
       "      <td>-0.9999</td>\n",
       "      <td>0.148</td>\n",
       "      <td>0.758</td>\n",
       "      <td>0.094</td>\n",
       "    </tr>\n",
       "    <tr>\n",
       "      <th>7260</th>\n",
       "      <td>2020-12-30</td>\n",
       "      <td>Numerology Readings 30 December 2020: Predicti...</td>\n",
       "      <td>0.441660</td>\n",
       "      <td>0.043496</td>\n",
       "      <td>-0.9999</td>\n",
       "      <td>0.141</td>\n",
       "      <td>0.780</td>\n",
       "      <td>0.079</td>\n",
       "    </tr>\n",
       "    <tr>\n",
       "      <th>7261</th>\n",
       "      <td>2020-12-31</td>\n",
       "      <td>Horoscope Today; 31 December 2020: Check astro...</td>\n",
       "      <td>0.406220</td>\n",
       "      <td>0.091373</td>\n",
       "      <td>-0.9998</td>\n",
       "      <td>0.136</td>\n",
       "      <td>0.766</td>\n",
       "      <td>0.098</td>\n",
       "    </tr>\n",
       "  </tbody>\n",
       "</table>\n",
       "<p>7262 rows × 8 columns</p>\n",
       "</div>"
      ],
      "text/plain": [
       "           Date                                               News  \\\n",
       "0    2001-01-02  Status quo will not be disturbed at Ayodhya; s...   \n",
       "1    2001-01-03  Powerless north India gropes in the dark Think...   \n",
       "2    2001-01-04  The string that pulled Stephen Hawking to Indi...   \n",
       "3    2001-01-05  Light combat craft takes India into club class...   \n",
       "4    2001-01-06  Light combat craft takes India into club class...   \n",
       "...         ...                                                ...   \n",
       "7257 2020-12-27  #BigInterview! Dhritiman Chatterjee: Nobody da...   \n",
       "7258 2020-12-28  Horoscope Today; 28 December 2020: Check astro...   \n",
       "7259 2020-12-29  Man recovers charred remains of 'thief' from h...   \n",
       "7260 2020-12-30  Numerology Readings 30 December 2020: Predicti...   \n",
       "7261 2020-12-31  Horoscope Today; 31 December 2020: Check astro...   \n",
       "\n",
       "      Subjectivity  Polarity  Compound  Negative  Neutral  Positive  \n",
       "0         0.282333  0.151333   -0.9811     0.122    0.807     0.071  \n",
       "1         0.407692  0.088462   -0.2640     0.122    0.766     0.111  \n",
       "2         0.446847  0.087961    0.8738     0.100    0.797     0.103  \n",
       "3         0.476612  0.262024    0.9633     0.124    0.722     0.154  \n",
       "4         0.439394  0.248485   -0.4215     0.152    0.704     0.143  \n",
       "...            ...       ...       ...       ...      ...       ...  \n",
       "7257      0.395808  0.035886   -0.9997     0.126    0.798     0.076  \n",
       "7258      0.412945  0.070517   -0.9998     0.137    0.771     0.092  \n",
       "7259      0.424021  0.061210   -0.9999     0.148    0.758     0.094  \n",
       "7260      0.441660  0.043496   -0.9999     0.141    0.780     0.079  \n",
       "7261      0.406220  0.091373   -0.9998     0.136    0.766     0.098  \n",
       "\n",
       "[7262 rows x 8 columns]"
      ]
     },
     "execution_count": 30,
     "metadata": {},
     "output_type": "execute_result"
    }
   ],
   "source": [
    "sia = SentimentIntensityAnalyzer()\n",
    "\n",
    "df_news['Compound'] = [sia.polarity_scores(v)['compound'] for v in df_news['News']]\n",
    "df_news['Negative'] = [sia.polarity_scores(v)['neg'] for v in df_news['News']]\n",
    "df_news['Neutral'] = [sia.polarity_scores(v)['neu'] for v in df_news['News']]\n",
    "df_news['Positive'] = [sia.polarity_scores(v)['pos'] for v in df_news['News']]\n",
    "df_news"
   ]
  },
  {
   "cell_type": "markdown",
   "metadata": {},
   "source": [
    "## Creating a hybrid model from Numerical and Textual data"
   ]
  },
  {
   "cell_type": "code",
   "execution_count": 31,
   "metadata": {},
   "outputs": [
    {
     "data": {
      "text/html": [
       "<div>\n",
       "<style scoped>\n",
       "    .dataframe tbody tr th:only-of-type {\n",
       "        vertical-align: middle;\n",
       "    }\n",
       "\n",
       "    .dataframe tbody tr th {\n",
       "        vertical-align: top;\n",
       "    }\n",
       "\n",
       "    .dataframe thead th {\n",
       "        text-align: right;\n",
       "    }\n",
       "</style>\n",
       "<table border=\"1\" class=\"dataframe\">\n",
       "  <thead>\n",
       "    <tr style=\"text-align: right;\">\n",
       "      <th></th>\n",
       "      <th>Date</th>\n",
       "      <th>Open</th>\n",
       "      <th>High</th>\n",
       "      <th>Low</th>\n",
       "      <th>Close</th>\n",
       "      <th>Adj Close</th>\n",
       "      <th>Volume</th>\n",
       "      <th>News</th>\n",
       "      <th>Subjectivity</th>\n",
       "      <th>Polarity</th>\n",
       "      <th>Compound</th>\n",
       "      <th>Negative</th>\n",
       "      <th>Neutral</th>\n",
       "      <th>Positive</th>\n",
       "    </tr>\n",
       "  </thead>\n",
       "  <tbody>\n",
       "    <tr>\n",
       "      <th>0</th>\n",
       "      <td>2005-06-30</td>\n",
       "      <td>7154.270020</td>\n",
       "      <td>7218.279785</td>\n",
       "      <td>7154.270020</td>\n",
       "      <td>7193.850098</td>\n",
       "      <td>7193.850098</td>\n",
       "      <td>28600.0</td>\n",
       "      <td>US kids hit fat camps in big way Experts add m...</td>\n",
       "      <td>0.392252</td>\n",
       "      <td>0.155306</td>\n",
       "      <td>-0.9210</td>\n",
       "      <td>0.118</td>\n",
       "      <td>0.777</td>\n",
       "      <td>0.105</td>\n",
       "    </tr>\n",
       "    <tr>\n",
       "      <th>1</th>\n",
       "      <td>2005-07-01</td>\n",
       "      <td>7165.450195</td>\n",
       "      <td>7228.569824</td>\n",
       "      <td>7154.930176</td>\n",
       "      <td>7210.770020</td>\n",
       "      <td>7210.770020</td>\n",
       "      <td>12600.0</td>\n",
       "      <td>Kuch Meetha Ho Jaye Bachke Rehna Re Baba Silsi...</td>\n",
       "      <td>0.441401</td>\n",
       "      <td>0.120223</td>\n",
       "      <td>0.9846</td>\n",
       "      <td>0.076</td>\n",
       "      <td>0.785</td>\n",
       "      <td>0.138</td>\n",
       "    </tr>\n",
       "    <tr>\n",
       "      <th>2</th>\n",
       "      <td>2005-07-04</td>\n",
       "      <td>7186.740234</td>\n",
       "      <td>7284.410156</td>\n",
       "      <td>7186.740234</td>\n",
       "      <td>7277.310059</td>\n",
       "      <td>7277.310059</td>\n",
       "      <td>9600.0</td>\n",
       "      <td>Boogeyman Bush in judge test Gladiators strike...</td>\n",
       "      <td>0.369919</td>\n",
       "      <td>-0.022525</td>\n",
       "      <td>-0.9907</td>\n",
       "      <td>0.153</td>\n",
       "      <td>0.797</td>\n",
       "      <td>0.050</td>\n",
       "    </tr>\n",
       "    <tr>\n",
       "      <th>3</th>\n",
       "      <td>2005-07-05</td>\n",
       "      <td>7275.000000</td>\n",
       "      <td>7308.720215</td>\n",
       "      <td>7209.859863</td>\n",
       "      <td>7220.250000</td>\n",
       "      <td>7220.250000</td>\n",
       "      <td>12600.0</td>\n",
       "      <td>It was great fun: Pierce A sport called hedoni...</td>\n",
       "      <td>0.349948</td>\n",
       "      <td>0.141555</td>\n",
       "      <td>0.8210</td>\n",
       "      <td>0.134</td>\n",
       "      <td>0.713</td>\n",
       "      <td>0.154</td>\n",
       "    </tr>\n",
       "    <tr>\n",
       "      <th>4</th>\n",
       "      <td>2005-07-06</td>\n",
       "      <td>7227.220215</td>\n",
       "      <td>7296.180176</td>\n",
       "      <td>7227.220215</td>\n",
       "      <td>7287.600098</td>\n",
       "      <td>7287.600098</td>\n",
       "      <td>13400.0</td>\n",
       "      <td>Heroes of Dec 13 prove mettle again Govt corne...</td>\n",
       "      <td>0.463967</td>\n",
       "      <td>0.095579</td>\n",
       "      <td>0.9306</td>\n",
       "      <td>0.135</td>\n",
       "      <td>0.715</td>\n",
       "      <td>0.150</td>\n",
       "    </tr>\n",
       "    <tr>\n",
       "      <th>...</th>\n",
       "      <td>...</td>\n",
       "      <td>...</td>\n",
       "      <td>...</td>\n",
       "      <td>...</td>\n",
       "      <td>...</td>\n",
       "      <td>...</td>\n",
       "      <td>...</td>\n",
       "      <td>...</td>\n",
       "      <td>...</td>\n",
       "      <td>...</td>\n",
       "      <td>...</td>\n",
       "      <td>...</td>\n",
       "      <td>...</td>\n",
       "      <td>...</td>\n",
       "    </tr>\n",
       "    <tr>\n",
       "      <th>3667</th>\n",
       "      <td>2020-06-23</td>\n",
       "      <td>35015.730469</td>\n",
       "      <td>35482.160156</td>\n",
       "      <td>34843.691406</td>\n",
       "      <td>35430.429688</td>\n",
       "      <td>35430.429688</td>\n",
       "      <td>25200.0</td>\n",
       "      <td>Delayed periods? Time to accept that household...</td>\n",
       "      <td>0.370002</td>\n",
       "      <td>0.067428</td>\n",
       "      <td>-0.9999</td>\n",
       "      <td>0.156</td>\n",
       "      <td>0.761</td>\n",
       "      <td>0.083</td>\n",
       "    </tr>\n",
       "    <tr>\n",
       "      <th>3668</th>\n",
       "      <td>2020-06-24</td>\n",
       "      <td>35679.738281</td>\n",
       "      <td>35706.550781</td>\n",
       "      <td>34794.929688</td>\n",
       "      <td>34868.980469</td>\n",
       "      <td>34868.980469</td>\n",
       "      <td>26600.0</td>\n",
       "      <td>I never thought I had a voice until today: Vid...</td>\n",
       "      <td>0.387802</td>\n",
       "      <td>0.088329</td>\n",
       "      <td>-0.9999</td>\n",
       "      <td>0.135</td>\n",
       "      <td>0.789</td>\n",
       "      <td>0.076</td>\n",
       "    </tr>\n",
       "    <tr>\n",
       "      <th>3669</th>\n",
       "      <td>2020-06-25</td>\n",
       "      <td>34525.390625</td>\n",
       "      <td>35081.609375</td>\n",
       "      <td>34499.781250</td>\n",
       "      <td>34842.101563</td>\n",
       "      <td>34842.101563</td>\n",
       "      <td>24600.0</td>\n",
       "      <td>Truck firms look for new export markets to sel...</td>\n",
       "      <td>0.401736</td>\n",
       "      <td>0.023232</td>\n",
       "      <td>-0.9999</td>\n",
       "      <td>0.138</td>\n",
       "      <td>0.800</td>\n",
       "      <td>0.062</td>\n",
       "    </tr>\n",
       "    <tr>\n",
       "      <th>3670</th>\n",
       "      <td>2020-06-26</td>\n",
       "      <td>35144.781250</td>\n",
       "      <td>35254.878906</td>\n",
       "      <td>34910.339844</td>\n",
       "      <td>35171.269531</td>\n",
       "      <td>35171.269531</td>\n",
       "      <td>24800.0</td>\n",
       "      <td>Containment zone residents slam high prices ch...</td>\n",
       "      <td>0.381841</td>\n",
       "      <td>0.068333</td>\n",
       "      <td>-0.9999</td>\n",
       "      <td>0.162</td>\n",
       "      <td>0.749</td>\n",
       "      <td>0.089</td>\n",
       "    </tr>\n",
       "    <tr>\n",
       "      <th>3671</th>\n",
       "      <td>2020-06-29</td>\n",
       "      <td>34926.949219</td>\n",
       "      <td>35032.359375</td>\n",
       "      <td>34662.058594</td>\n",
       "      <td>34961.519531</td>\n",
       "      <td>34961.519531</td>\n",
       "      <td>18300.0</td>\n",
       "      <td>6 hot and stylish bikini looks of Katrina Kaif...</td>\n",
       "      <td>0.388578</td>\n",
       "      <td>0.058113</td>\n",
       "      <td>-0.9999</td>\n",
       "      <td>0.145</td>\n",
       "      <td>0.772</td>\n",
       "      <td>0.082</td>\n",
       "    </tr>\n",
       "  </tbody>\n",
       "</table>\n",
       "<p>3672 rows × 14 columns</p>\n",
       "</div>"
      ],
      "text/plain": [
       "           Date          Open          High           Low         Close  \\\n",
       "0    2005-06-30   7154.270020   7218.279785   7154.270020   7193.850098   \n",
       "1    2005-07-01   7165.450195   7228.569824   7154.930176   7210.770020   \n",
       "2    2005-07-04   7186.740234   7284.410156   7186.740234   7277.310059   \n",
       "3    2005-07-05   7275.000000   7308.720215   7209.859863   7220.250000   \n",
       "4    2005-07-06   7227.220215   7296.180176   7227.220215   7287.600098   \n",
       "...         ...           ...           ...           ...           ...   \n",
       "3667 2020-06-23  35015.730469  35482.160156  34843.691406  35430.429688   \n",
       "3668 2020-06-24  35679.738281  35706.550781  34794.929688  34868.980469   \n",
       "3669 2020-06-25  34525.390625  35081.609375  34499.781250  34842.101563   \n",
       "3670 2020-06-26  35144.781250  35254.878906  34910.339844  35171.269531   \n",
       "3671 2020-06-29  34926.949219  35032.359375  34662.058594  34961.519531   \n",
       "\n",
       "         Adj Close   Volume  \\\n",
       "0      7193.850098  28600.0   \n",
       "1      7210.770020  12600.0   \n",
       "2      7277.310059   9600.0   \n",
       "3      7220.250000  12600.0   \n",
       "4      7287.600098  13400.0   \n",
       "...            ...      ...   \n",
       "3667  35430.429688  25200.0   \n",
       "3668  34868.980469  26600.0   \n",
       "3669  34842.101563  24600.0   \n",
       "3670  35171.269531  24800.0   \n",
       "3671  34961.519531  18300.0   \n",
       "\n",
       "                                                   News  Subjectivity  \\\n",
       "0     US kids hit fat camps in big way Experts add m...      0.392252   \n",
       "1     Kuch Meetha Ho Jaye Bachke Rehna Re Baba Silsi...      0.441401   \n",
       "2     Boogeyman Bush in judge test Gladiators strike...      0.369919   \n",
       "3     It was great fun: Pierce A sport called hedoni...      0.349948   \n",
       "4     Heroes of Dec 13 prove mettle again Govt corne...      0.463967   \n",
       "...                                                 ...           ...   \n",
       "3667  Delayed periods? Time to accept that household...      0.370002   \n",
       "3668  I never thought I had a voice until today: Vid...      0.387802   \n",
       "3669  Truck firms look for new export markets to sel...      0.401736   \n",
       "3670  Containment zone residents slam high prices ch...      0.381841   \n",
       "3671  6 hot and stylish bikini looks of Katrina Kaif...      0.388578   \n",
       "\n",
       "      Polarity  Compound  Negative  Neutral  Positive  \n",
       "0     0.155306   -0.9210     0.118    0.777     0.105  \n",
       "1     0.120223    0.9846     0.076    0.785     0.138  \n",
       "2    -0.022525   -0.9907     0.153    0.797     0.050  \n",
       "3     0.141555    0.8210     0.134    0.713     0.154  \n",
       "4     0.095579    0.9306     0.135    0.715     0.150  \n",
       "...        ...       ...       ...      ...       ...  \n",
       "3667  0.067428   -0.9999     0.156    0.761     0.083  \n",
       "3668  0.088329   -0.9999     0.135    0.789     0.076  \n",
       "3669  0.023232   -0.9999     0.138    0.800     0.062  \n",
       "3670  0.068333   -0.9999     0.162    0.749     0.089  \n",
       "3671  0.058113   -0.9999     0.145    0.772     0.082  \n",
       "\n",
       "[3672 rows x 14 columns]"
      ]
     },
     "execution_count": 31,
     "metadata": {},
     "output_type": "execute_result"
    }
   ],
   "source": [
    "df_merge = pd.merge(df_prices, df_news, how='inner', on='Date')\n",
    "df_merge"
   ]
  },
  {
   "cell_type": "code",
   "execution_count": 32,
   "metadata": {},
   "outputs": [
    {
     "data": {
      "text/html": [
       "<div>\n",
       "<style scoped>\n",
       "    .dataframe tbody tr th:only-of-type {\n",
       "        vertical-align: middle;\n",
       "    }\n",
       "\n",
       "    .dataframe tbody tr th {\n",
       "        vertical-align: top;\n",
       "    }\n",
       "\n",
       "    .dataframe thead th {\n",
       "        text-align: right;\n",
       "    }\n",
       "</style>\n",
       "<table border=\"1\" class=\"dataframe\">\n",
       "  <thead>\n",
       "    <tr style=\"text-align: right;\">\n",
       "      <th></th>\n",
       "      <th>Close</th>\n",
       "      <th>Subjectivity</th>\n",
       "      <th>Polarity</th>\n",
       "      <th>Compound</th>\n",
       "      <th>Negative</th>\n",
       "      <th>Neutral</th>\n",
       "      <th>Positive</th>\n",
       "    </tr>\n",
       "  </thead>\n",
       "  <tbody>\n",
       "    <tr>\n",
       "      <th>0</th>\n",
       "      <td>7193.850098</td>\n",
       "      <td>0.392252</td>\n",
       "      <td>0.155306</td>\n",
       "      <td>-0.9210</td>\n",
       "      <td>0.118</td>\n",
       "      <td>0.777</td>\n",
       "      <td>0.105</td>\n",
       "    </tr>\n",
       "    <tr>\n",
       "      <th>1</th>\n",
       "      <td>7210.770020</td>\n",
       "      <td>0.441401</td>\n",
       "      <td>0.120223</td>\n",
       "      <td>0.9846</td>\n",
       "      <td>0.076</td>\n",
       "      <td>0.785</td>\n",
       "      <td>0.138</td>\n",
       "    </tr>\n",
       "    <tr>\n",
       "      <th>2</th>\n",
       "      <td>7277.310059</td>\n",
       "      <td>0.369919</td>\n",
       "      <td>-0.022525</td>\n",
       "      <td>-0.9907</td>\n",
       "      <td>0.153</td>\n",
       "      <td>0.797</td>\n",
       "      <td>0.050</td>\n",
       "    </tr>\n",
       "    <tr>\n",
       "      <th>3</th>\n",
       "      <td>7220.250000</td>\n",
       "      <td>0.349948</td>\n",
       "      <td>0.141555</td>\n",
       "      <td>0.8210</td>\n",
       "      <td>0.134</td>\n",
       "      <td>0.713</td>\n",
       "      <td>0.154</td>\n",
       "    </tr>\n",
       "    <tr>\n",
       "      <th>4</th>\n",
       "      <td>7287.600098</td>\n",
       "      <td>0.463967</td>\n",
       "      <td>0.095579</td>\n",
       "      <td>0.9306</td>\n",
       "      <td>0.135</td>\n",
       "      <td>0.715</td>\n",
       "      <td>0.150</td>\n",
       "    </tr>\n",
       "    <tr>\n",
       "      <th>...</th>\n",
       "      <td>...</td>\n",
       "      <td>...</td>\n",
       "      <td>...</td>\n",
       "      <td>...</td>\n",
       "      <td>...</td>\n",
       "      <td>...</td>\n",
       "      <td>...</td>\n",
       "    </tr>\n",
       "    <tr>\n",
       "      <th>3667</th>\n",
       "      <td>35430.429688</td>\n",
       "      <td>0.370002</td>\n",
       "      <td>0.067428</td>\n",
       "      <td>-0.9999</td>\n",
       "      <td>0.156</td>\n",
       "      <td>0.761</td>\n",
       "      <td>0.083</td>\n",
       "    </tr>\n",
       "    <tr>\n",
       "      <th>3668</th>\n",
       "      <td>34868.980469</td>\n",
       "      <td>0.387802</td>\n",
       "      <td>0.088329</td>\n",
       "      <td>-0.9999</td>\n",
       "      <td>0.135</td>\n",
       "      <td>0.789</td>\n",
       "      <td>0.076</td>\n",
       "    </tr>\n",
       "    <tr>\n",
       "      <th>3669</th>\n",
       "      <td>34842.101563</td>\n",
       "      <td>0.401736</td>\n",
       "      <td>0.023232</td>\n",
       "      <td>-0.9999</td>\n",
       "      <td>0.138</td>\n",
       "      <td>0.800</td>\n",
       "      <td>0.062</td>\n",
       "    </tr>\n",
       "    <tr>\n",
       "      <th>3670</th>\n",
       "      <td>35171.269531</td>\n",
       "      <td>0.381841</td>\n",
       "      <td>0.068333</td>\n",
       "      <td>-0.9999</td>\n",
       "      <td>0.162</td>\n",
       "      <td>0.749</td>\n",
       "      <td>0.089</td>\n",
       "    </tr>\n",
       "    <tr>\n",
       "      <th>3671</th>\n",
       "      <td>34961.519531</td>\n",
       "      <td>0.388578</td>\n",
       "      <td>0.058113</td>\n",
       "      <td>-0.9999</td>\n",
       "      <td>0.145</td>\n",
       "      <td>0.772</td>\n",
       "      <td>0.082</td>\n",
       "    </tr>\n",
       "  </tbody>\n",
       "</table>\n",
       "<p>3672 rows × 7 columns</p>\n",
       "</div>"
      ],
      "text/plain": [
       "             Close  Subjectivity  Polarity  Compound  Negative  Neutral  \\\n",
       "0      7193.850098      0.392252  0.155306   -0.9210     0.118    0.777   \n",
       "1      7210.770020      0.441401  0.120223    0.9846     0.076    0.785   \n",
       "2      7277.310059      0.369919 -0.022525   -0.9907     0.153    0.797   \n",
       "3      7220.250000      0.349948  0.141555    0.8210     0.134    0.713   \n",
       "4      7287.600098      0.463967  0.095579    0.9306     0.135    0.715   \n",
       "...            ...           ...       ...       ...       ...      ...   \n",
       "3667  35430.429688      0.370002  0.067428   -0.9999     0.156    0.761   \n",
       "3668  34868.980469      0.387802  0.088329   -0.9999     0.135    0.789   \n",
       "3669  34842.101563      0.401736  0.023232   -0.9999     0.138    0.800   \n",
       "3670  35171.269531      0.381841  0.068333   -0.9999     0.162    0.749   \n",
       "3671  34961.519531      0.388578  0.058113   -0.9999     0.145    0.772   \n",
       "\n",
       "      Positive  \n",
       "0        0.105  \n",
       "1        0.138  \n",
       "2        0.050  \n",
       "3        0.154  \n",
       "4        0.150  \n",
       "...        ...  \n",
       "3667     0.083  \n",
       "3668     0.076  \n",
       "3669     0.062  \n",
       "3670     0.089  \n",
       "3671     0.082  \n",
       "\n",
       "[3672 rows x 7 columns]"
      ]
     },
     "execution_count": 32,
     "metadata": {},
     "output_type": "execute_result"
    }
   ],
   "source": [
    "df = df_merge[['Close', 'Subjectivity', 'Polarity', 'Compound', 'Negative', 'Neutral', 'Positive']]\n",
    "df"
   ]
  },
  {
   "cell_type": "markdown",
   "metadata": {},
   "source": [
    "## Training and Testing different models for Stock Price/Performance Analysis"
   ]
  },
  {
   "cell_type": "code",
   "execution_count": 33,
   "metadata": {},
   "outputs": [
    {
     "data": {
      "text/html": [
       "<div>\n",
       "<style scoped>\n",
       "    .dataframe tbody tr th:only-of-type {\n",
       "        vertical-align: middle;\n",
       "    }\n",
       "\n",
       "    .dataframe tbody tr th {\n",
       "        vertical-align: top;\n",
       "    }\n",
       "\n",
       "    .dataframe thead th {\n",
       "        text-align: right;\n",
       "    }\n",
       "</style>\n",
       "<table border=\"1\" class=\"dataframe\">\n",
       "  <thead>\n",
       "    <tr style=\"text-align: right;\">\n",
       "      <th></th>\n",
       "      <th>Close</th>\n",
       "      <th>Subjectivity</th>\n",
       "      <th>Polarity</th>\n",
       "      <th>Compound</th>\n",
       "      <th>Negative</th>\n",
       "      <th>Neutral</th>\n",
       "      <th>Positive</th>\n",
       "    </tr>\n",
       "  </thead>\n",
       "  <tbody>\n",
       "    <tr>\n",
       "      <th>0</th>\n",
       "      <td>0.001400</td>\n",
       "      <td>0.424831</td>\n",
       "      <td>0.588415</td>\n",
       "      <td>0.03950</td>\n",
       "      <td>0.248619</td>\n",
       "      <td>0.680412</td>\n",
       "      <td>0.315217</td>\n",
       "    </tr>\n",
       "    <tr>\n",
       "      <th>1</th>\n",
       "      <td>0.001886</td>\n",
       "      <td>0.588627</td>\n",
       "      <td>0.493791</td>\n",
       "      <td>0.99230</td>\n",
       "      <td>0.016575</td>\n",
       "      <td>0.707904</td>\n",
       "      <td>0.494565</td>\n",
       "    </tr>\n",
       "    <tr>\n",
       "      <th>2</th>\n",
       "      <td>0.003797</td>\n",
       "      <td>0.350402</td>\n",
       "      <td>0.108774</td>\n",
       "      <td>0.00465</td>\n",
       "      <td>0.441989</td>\n",
       "      <td>0.749141</td>\n",
       "      <td>0.016304</td>\n",
       "    </tr>\n",
       "    <tr>\n",
       "      <th>3</th>\n",
       "      <td>0.002158</td>\n",
       "      <td>0.283844</td>\n",
       "      <td>0.551326</td>\n",
       "      <td>0.91050</td>\n",
       "      <td>0.337017</td>\n",
       "      <td>0.460481</td>\n",
       "      <td>0.581522</td>\n",
       "    </tr>\n",
       "    <tr>\n",
       "      <th>4</th>\n",
       "      <td>0.004093</td>\n",
       "      <td>0.663830</td>\n",
       "      <td>0.427321</td>\n",
       "      <td>0.96530</td>\n",
       "      <td>0.342541</td>\n",
       "      <td>0.467354</td>\n",
       "      <td>0.559783</td>\n",
       "    </tr>\n",
       "  </tbody>\n",
       "</table>\n",
       "</div>"
      ],
      "text/plain": [
       "      Close  Subjectivity  Polarity  Compound  Negative   Neutral  Positive\n",
       "0  0.001400      0.424831  0.588415   0.03950  0.248619  0.680412  0.315217\n",
       "1  0.001886      0.588627  0.493791   0.99230  0.016575  0.707904  0.494565\n",
       "2  0.003797      0.350402  0.108774   0.00465  0.441989  0.749141  0.016304\n",
       "3  0.002158      0.283844  0.551326   0.91050  0.337017  0.460481  0.581522\n",
       "4  0.004093      0.663830  0.427321   0.96530  0.342541  0.467354  0.559783"
      ]
     },
     "execution_count": 33,
     "metadata": {},
     "output_type": "execute_result"
    }
   ],
   "source": [
    "# Normalizing the dataset\n",
    "from sklearn.preprocessing import MinMaxScaler\n",
    "sc = MinMaxScaler()\n",
    "new_df = pd.DataFrame(sc.fit_transform(df))\n",
    "new_df.columns = df.columns\n",
    "new_df.index = df.index\n",
    "new_df.head()"
   ]
  },
  {
   "cell_type": "code",
   "execution_count": 34,
   "metadata": {},
   "outputs": [],
   "source": [
    "X = new_df.drop('Close', axis=1)\n",
    "y = new_df['Close']"
   ]
  },
  {
   "cell_type": "code",
   "execution_count": 35,
   "metadata": {},
   "outputs": [
    {
     "data": {
      "text/html": [
       "<div>\n",
       "<style scoped>\n",
       "    .dataframe tbody tr th:only-of-type {\n",
       "        vertical-align: middle;\n",
       "    }\n",
       "\n",
       "    .dataframe tbody tr th {\n",
       "        vertical-align: top;\n",
       "    }\n",
       "\n",
       "    .dataframe thead th {\n",
       "        text-align: right;\n",
       "    }\n",
       "</style>\n",
       "<table border=\"1\" class=\"dataframe\">\n",
       "  <thead>\n",
       "    <tr style=\"text-align: right;\">\n",
       "      <th></th>\n",
       "      <th>Subjectivity</th>\n",
       "      <th>Polarity</th>\n",
       "      <th>Compound</th>\n",
       "      <th>Negative</th>\n",
       "      <th>Neutral</th>\n",
       "      <th>Positive</th>\n",
       "    </tr>\n",
       "  </thead>\n",
       "  <tbody>\n",
       "    <tr>\n",
       "      <th>0</th>\n",
       "      <td>0.424831</td>\n",
       "      <td>0.588415</td>\n",
       "      <td>0.03950</td>\n",
       "      <td>0.248619</td>\n",
       "      <td>0.680412</td>\n",
       "      <td>0.315217</td>\n",
       "    </tr>\n",
       "    <tr>\n",
       "      <th>1</th>\n",
       "      <td>0.588627</td>\n",
       "      <td>0.493791</td>\n",
       "      <td>0.99230</td>\n",
       "      <td>0.016575</td>\n",
       "      <td>0.707904</td>\n",
       "      <td>0.494565</td>\n",
       "    </tr>\n",
       "    <tr>\n",
       "      <th>2</th>\n",
       "      <td>0.350402</td>\n",
       "      <td>0.108774</td>\n",
       "      <td>0.00465</td>\n",
       "      <td>0.441989</td>\n",
       "      <td>0.749141</td>\n",
       "      <td>0.016304</td>\n",
       "    </tr>\n",
       "    <tr>\n",
       "      <th>3</th>\n",
       "      <td>0.283844</td>\n",
       "      <td>0.551326</td>\n",
       "      <td>0.91050</td>\n",
       "      <td>0.337017</td>\n",
       "      <td>0.460481</td>\n",
       "      <td>0.581522</td>\n",
       "    </tr>\n",
       "    <tr>\n",
       "      <th>4</th>\n",
       "      <td>0.663830</td>\n",
       "      <td>0.427321</td>\n",
       "      <td>0.96530</td>\n",
       "      <td>0.342541</td>\n",
       "      <td>0.467354</td>\n",
       "      <td>0.559783</td>\n",
       "    </tr>\n",
       "  </tbody>\n",
       "</table>\n",
       "</div>"
      ],
      "text/plain": [
       "   Subjectivity  Polarity  Compound  Negative   Neutral  Positive\n",
       "0      0.424831  0.588415   0.03950  0.248619  0.680412  0.315217\n",
       "1      0.588627  0.493791   0.99230  0.016575  0.707904  0.494565\n",
       "2      0.350402  0.108774   0.00465  0.441989  0.749141  0.016304\n",
       "3      0.283844  0.551326   0.91050  0.337017  0.460481  0.581522\n",
       "4      0.663830  0.427321   0.96530  0.342541  0.467354  0.559783"
      ]
     },
     "execution_count": 35,
     "metadata": {},
     "output_type": "execute_result"
    }
   ],
   "source": [
    "X.head()"
   ]
  },
  {
   "cell_type": "code",
   "execution_count": 36,
   "metadata": {},
   "outputs": [
    {
     "data": {
      "text/plain": [
       "(2937, 6)"
      ]
     },
     "execution_count": 36,
     "metadata": {},
     "output_type": "execute_result"
    }
   ],
   "source": [
    "# Splitting the dataset into training and test sets\n",
    "from sklearn.model_selection import train_test_split\n",
    "X_train, X_test, y_train, y_test = train_test_split(X, y, test_size=0.2, random_state=0)\n",
    "X_train.shape"
   ]
  },
  {
   "cell_type": "code",
   "execution_count": 37,
   "metadata": {},
   "outputs": [
    {
     "data": {
      "text/html": [
       "<div>\n",
       "<style scoped>\n",
       "    .dataframe tbody tr th:only-of-type {\n",
       "        vertical-align: middle;\n",
       "    }\n",
       "\n",
       "    .dataframe tbody tr th {\n",
       "        vertical-align: top;\n",
       "    }\n",
       "\n",
       "    .dataframe thead th {\n",
       "        text-align: right;\n",
       "    }\n",
       "</style>\n",
       "<table border=\"1\" class=\"dataframe\">\n",
       "  <thead>\n",
       "    <tr style=\"text-align: right;\">\n",
       "      <th></th>\n",
       "      <th>Subjectivity</th>\n",
       "      <th>Polarity</th>\n",
       "      <th>Compound</th>\n",
       "      <th>Negative</th>\n",
       "      <th>Neutral</th>\n",
       "      <th>Positive</th>\n",
       "    </tr>\n",
       "  </thead>\n",
       "  <tbody>\n",
       "    <tr>\n",
       "      <th>1948</th>\n",
       "      <td>0.431692</td>\n",
       "      <td>0.378563</td>\n",
       "      <td>0.00005</td>\n",
       "      <td>0.574586</td>\n",
       "      <td>0.422680</td>\n",
       "      <td>0.396739</td>\n",
       "    </tr>\n",
       "    <tr>\n",
       "      <th>2148</th>\n",
       "      <td>0.351232</td>\n",
       "      <td>0.355140</td>\n",
       "      <td>0.00005</td>\n",
       "      <td>0.403315</td>\n",
       "      <td>0.618557</td>\n",
       "      <td>0.255435</td>\n",
       "    </tr>\n",
       "    <tr>\n",
       "      <th>217</th>\n",
       "      <td>0.637176</td>\n",
       "      <td>0.382309</td>\n",
       "      <td>0.00085</td>\n",
       "      <td>0.502762</td>\n",
       "      <td>0.618557</td>\n",
       "      <td>0.163043</td>\n",
       "    </tr>\n",
       "    <tr>\n",
       "      <th>670</th>\n",
       "      <td>0.457321</td>\n",
       "      <td>0.379453</td>\n",
       "      <td>0.00015</td>\n",
       "      <td>0.635359</td>\n",
       "      <td>0.481100</td>\n",
       "      <td>0.250000</td>\n",
       "    </tr>\n",
       "    <tr>\n",
       "      <th>1242</th>\n",
       "      <td>0.416281</td>\n",
       "      <td>0.391581</td>\n",
       "      <td>0.00005</td>\n",
       "      <td>0.491713</td>\n",
       "      <td>0.601375</td>\n",
       "      <td>0.201087</td>\n",
       "    </tr>\n",
       "    <tr>\n",
       "      <th>977</th>\n",
       "      <td>0.532866</td>\n",
       "      <td>0.320181</td>\n",
       "      <td>0.00005</td>\n",
       "      <td>0.535912</td>\n",
       "      <td>0.532646</td>\n",
       "      <td>0.266304</td>\n",
       "    </tr>\n",
       "    <tr>\n",
       "      <th>1070</th>\n",
       "      <td>0.487694</td>\n",
       "      <td>0.309287</td>\n",
       "      <td>0.00030</td>\n",
       "      <td>0.259669</td>\n",
       "      <td>0.766323</td>\n",
       "      <td>0.168478</td>\n",
       "    </tr>\n",
       "    <tr>\n",
       "      <th>3523</th>\n",
       "      <td>0.435827</td>\n",
       "      <td>0.311410</td>\n",
       "      <td>0.00005</td>\n",
       "      <td>0.436464</td>\n",
       "      <td>0.642612</td>\n",
       "      <td>0.190217</td>\n",
       "    </tr>\n",
       "    <tr>\n",
       "      <th>3000</th>\n",
       "      <td>0.475016</td>\n",
       "      <td>0.413409</td>\n",
       "      <td>0.00030</td>\n",
       "      <td>0.287293</td>\n",
       "      <td>0.673540</td>\n",
       "      <td>0.293478</td>\n",
       "    </tr>\n",
       "    <tr>\n",
       "      <th>2564</th>\n",
       "      <td>0.453584</td>\n",
       "      <td>0.336021</td>\n",
       "      <td>0.00010</td>\n",
       "      <td>0.469613</td>\n",
       "      <td>0.484536</td>\n",
       "      <td>0.402174</td>\n",
       "    </tr>\n",
       "  </tbody>\n",
       "</table>\n",
       "</div>"
      ],
      "text/plain": [
       "      Subjectivity  Polarity  Compound  Negative   Neutral  Positive\n",
       "1948      0.431692  0.378563   0.00005  0.574586  0.422680  0.396739\n",
       "2148      0.351232  0.355140   0.00005  0.403315  0.618557  0.255435\n",
       "217       0.637176  0.382309   0.00085  0.502762  0.618557  0.163043\n",
       "670       0.457321  0.379453   0.00015  0.635359  0.481100  0.250000\n",
       "1242      0.416281  0.391581   0.00005  0.491713  0.601375  0.201087\n",
       "977       0.532866  0.320181   0.00005  0.535912  0.532646  0.266304\n",
       "1070      0.487694  0.309287   0.00030  0.259669  0.766323  0.168478\n",
       "3523      0.435827  0.311410   0.00005  0.436464  0.642612  0.190217\n",
       "3000      0.475016  0.413409   0.00030  0.287293  0.673540  0.293478\n",
       "2564      0.453584  0.336021   0.00010  0.469613  0.484536  0.402174"
      ]
     },
     "execution_count": 37,
     "metadata": {},
     "output_type": "execute_result"
    }
   ],
   "source": [
    "X_train[:10]"
   ]
  },
  {
   "cell_type": "markdown",
   "metadata": {},
   "source": [
    "### Random Forest model"
   ]
  },
  {
   "cell_type": "code",
   "execution_count": 38,
   "metadata": {},
   "outputs": [
    {
     "name": "stdout",
     "output_type": "stream",
     "text": [
      "0.17212683200230333 RMSE\n"
     ]
    }
   ],
   "source": [
    "from sklearn.ensemble import RandomForestRegressor\n",
    "rf = RandomForestRegressor()\n",
    "rf.fit(X_train, y_train)\n",
    "rf_pred = rf.predict(X_test)\n",
    "print(math.sqrt(mean_squared_error(rf_pred, y_test)), 'RMSE')"
   ]
  },
  {
   "cell_type": "markdown",
   "metadata": {},
   "source": [
    "### Decision Tree model"
   ]
  },
  {
   "cell_type": "code",
   "execution_count": 39,
   "metadata": {},
   "outputs": [
    {
     "name": "stdout",
     "output_type": "stream",
     "text": [
      "0.22975449127044695 RMSE\n"
     ]
    }
   ],
   "source": [
    "from sklearn.tree import DecisionTreeRegressor\n",
    "dtr = DecisionTreeRegressor()\n",
    "dtr.fit(X_train, y_train)\n",
    "dtr_pred = dtr.predict(X_test)\n",
    "print(math.sqrt(mean_squared_error(dtr_pred, y_test)), 'RMSE')"
   ]
  },
  {
   "cell_type": "markdown",
   "metadata": {},
   "source": [
    "### AdaBoost model"
   ]
  },
  {
   "cell_type": "code",
   "execution_count": 40,
   "metadata": {},
   "outputs": [
    {
     "name": "stdout",
     "output_type": "stream",
     "text": [
      "0.1940997141791356 RMSE\n"
     ]
    }
   ],
   "source": [
    "from sklearn.ensemble import AdaBoostRegressor\n",
    "adb = AdaBoostRegressor()\n",
    "adb.fit(X_train, y_train)\n",
    "adb_pred = adb.predict(X_test)\n",
    "print(math.sqrt(mean_squared_error(adb_pred, y_test)), 'RMSE')"
   ]
  },
  {
   "cell_type": "markdown",
   "metadata": {},
   "source": [
    "### XGBoost model"
   ]
  },
  {
   "cell_type": "code",
   "execution_count": 41,
   "metadata": {},
   "outputs": [
    {
     "name": "stdout",
     "output_type": "stream",
     "text": [
      "0.18233673479672566 RMSE\n"
     ]
    }
   ],
   "source": [
    "import xgboost\n",
    "xgb = xgboost.XGBRegressor()\n",
    "xgb.fit(X_train, y_train)\n",
    "xgb_pred = xgb.predict(X_test)\n",
    "print(math.sqrt(mean_squared_error(xgb_pred, y_test)), 'RMSE')"
   ]
  },
  {
   "cell_type": "markdown",
   "metadata": {},
   "source": [
    "## Conclusion\n",
    "I have used four models to carry out hybrid analysis. The root mean squared error of each model is:\n",
    " - Random Forest Model: 0.17212683200230333\n",
    " - Decision Tree Model: 0.22975449127044695\n",
    " - AdaBoost Model: 0.1940997141791356\n",
    " - XGBoost Model: 0.18233673479672566\n",
    "\n",
    "From the RMSE values we can see that **Random Forest Regressor model** gives a more accurate output as compared to other models."
   ]
  }
 ],
 "metadata": {
  "kernelspec": {
   "display_name": "Python 3",
   "language": "python",
   "name": "python3"
  },
  "language_info": {
   "codemirror_mode": {
    "name": "ipython",
    "version": 3
   },
   "file_extension": ".py",
   "mimetype": "text/x-python",
   "name": "python",
   "nbconvert_exporter": "python",
   "pygments_lexer": "ipython3",
   "version": "3.7.6"
  },
  "toc": {
   "base_numbering": 1,
   "nav_menu": {},
   "number_sections": false,
   "sideBar": true,
   "skip_h1_title": false,
   "title_cell": "Table of Contents",
   "title_sidebar": "Contents",
   "toc_cell": false,
   "toc_position": {},
   "toc_section_display": true,
   "toc_window_display": false
  }
 },
 "nbformat": 4,
 "nbformat_minor": 4
}
